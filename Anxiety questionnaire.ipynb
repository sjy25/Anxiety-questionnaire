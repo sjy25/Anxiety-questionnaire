{
 "cells": [
  {
   "cell_type": "markdown",
   "metadata": {},
   "source": [
    "# Anxiety questionnaire\n",
    "\n",
    "In this mini-project, I designed a simple questionnaire to assess an individual's level of anxiety. the questions were adapted from here: https://www.nhs.uk/mental-health/self-help/guides-tools-and-activities/depression-anxiety-self-assessment-quiz/"
   ]
  },
  {
   "cell_type": "code",
   "execution_count": 1,
   "metadata": {},
   "outputs": [],
   "source": [
    "#import relevant packages\n",
    "import time\n",
    "import sys"
   ]
  },
  {
   "cell_type": "code",
   "execution_count": 2,
   "metadata": {},
   "outputs": [
    {
     "name": "stdout",
     "output_type": "stream",
     "text": [
      "This is a self-assesment questionnaire on anxiety.With each question, think about how you have been feeling over \n",
      "the last 2 weeks.\n",
      "The questionnaire will be launched in 5 seconds\n",
      "\n",
      "How often have you been bothered by feeling down, depressed or hopeless?\n",
      "(a) Not at all\n",
      "(b) Once in awhile\n",
      "(c) Several times a week\n",
      "(d) Nearly everyday\n",
      "f\n",
      "Sorry that's an invalid response. please try again with a valid answer i.e. a,b,c or d\n",
      "\n",
      "How often have you been bothered by feeling down, depressed or hopeless?\n",
      "(a) Not at all\n",
      "(b) Once in awhile\n",
      "(c) Several times a week\n",
      "(d) Nearly everyday\n",
      "a\n",
      "How often have you had little interest or pleasure in doing things?\n",
      "(a) Not at all\n",
      "(b) Once in awhile\n",
      "(c) Several times a week\n",
      "(d) Nearly everyday\n",
      "I don't know\n",
      "Sorry that's an invalid response. please try again with a valid answer i.e. a,b,c or d\n",
      "\n",
      "How often have you had little interest or pleasure in doing things?\n",
      "(a) Not at all\n",
      "(b) Once in awhile\n",
      "(c) Several times a week\n",
      "(d) Nearly everyday\n",
      "c\n",
      "Thank you. We have come to the end of the questionnaire.\n"
     ]
    }
   ],
   "source": [
    "#define a question class \n",
    "class Question:\n",
    "     def __init__(self, prompt):\n",
    "          self.prompt = prompt\n",
    "\n",
    "#create a list of questions\n",
    "question_prompts = [\n",
    "     \"How often have you been bothered by feeling down, depressed or hopeless?\\n(a) Not at all\\n(b) Once in awhile\\n(c) Several times a week\\n(d) Nearly everyday\\n\",\n",
    "     \"How often have you had little interest or pleasure in doing things?\\n(a) Not at all\\n(b) Once in awhile\\n(c) Several times a week\\n(d) Nearly everyday\\n\"\n",
    "]\n",
    "\n",
    "#create a variable for valid respondent answers\n",
    "r_answer=\"a\"or\"b\"or\"c\"or\"d\"\n",
    "\n",
    "questions = [\n",
    "     Question(question_prompts[0]),\n",
    "     Question(question_prompts[1]),\n",
    "]\n",
    "\n",
    "#create a function to run the quiz\n",
    "def run_quiz(questions):\n",
    "     print('This is a self-assesment questionnaire on anxiety.With each question, think about how you have been feeling over \\nthe last 2 weeks.\\nThe questionnaire will be launched in 5 seconds\\n')\n",
    "     time.sleep(5)\n",
    "     for question in questions:\n",
    "        answer=input(question)\n",
    "    #if the respondent enters an invalid response, to print an error message and restart that question\n",
    "        if answer != r_answer:\n",
    "            print(\"Sorry that's an invalid response. please try again with a valid answer i.e. a,b,c or d\\n\")\n",
    "            answer=input(question)\n",
    "        else:\n",
    "            break \n",
    "     print(\"Thank you. We have come to the end of the questionnaire.\")\n",
    "run_quiz(question_prompts)"
   ]
  },
  {
   "cell_type": "code",
   "execution_count": null,
   "metadata": {},
   "outputs": [],
   "source": []
  }
 ],
 "metadata": {
  "kernelspec": {
   "display_name": "Python 3",
   "language": "python",
   "name": "python3"
  },
  "language_info": {
   "codemirror_mode": {
    "name": "ipython",
    "version": 3
   },
   "file_extension": ".py",
   "mimetype": "text/x-python",
   "name": "python",
   "nbconvert_exporter": "python",
   "pygments_lexer": "ipython3",
   "version": "3.7.4"
  }
 },
 "nbformat": 4,
 "nbformat_minor": 2
}
